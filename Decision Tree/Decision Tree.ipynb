{
 "cells": [
  {
   "cell_type": "code",
   "execution_count": 136,
   "id": "6d98599a",
   "metadata": {},
   "outputs": [],
   "source": [
    "from math import log"
   ]
  },
  {
   "cell_type": "code",
   "execution_count": 137,
   "id": "bfe05580",
   "metadata": {},
   "outputs": [],
   "source": [
    "def calcShannonEnt(dataSet):\n",
    "    numDataSet=len(dataSet)\n",
    "    labelCounts={}\n",
    "    for data in dataSet:\n",
    "        label=data[-1]\n",
    "        labelCounts[label]=labelCounts.get(label,0)+1\n",
    "    shannonEnt=0.0\n",
    "    for label in labelCounts:\n",
    "        prob=float(labelCounts[label])/numDataSet\n",
    "        shannonEnt-=prob*log(prob,2)\n",
    "    return shannonEnt"
   ]
  },
  {
   "cell_type": "code",
   "execution_count": 138,
   "id": "42fc0f55",
   "metadata": {},
   "outputs": [],
   "source": [
    "def createDataSet():\n",
    "    dataSet=[[1,1,'yes'],[1,1,'yes'],[1,0,'no'],[0,1,'no'],[0,1,'no']]\n",
    "    labels=['no surfacing','flippers']\n",
    "    return dataSet,labels"
   ]
  },
  {
   "cell_type": "code",
   "execution_count": 139,
   "id": "9011a0a6",
   "metadata": {},
   "outputs": [],
   "source": [
    "dataSet,labels=createDataSet()"
   ]
  },
  {
   "cell_type": "code",
   "execution_count": 140,
   "id": "428d416a",
   "metadata": {},
   "outputs": [],
   "source": [
    "def splitDataSet(dataSet,feature,value):\n",
    "    retDataSet=[]\n",
    "    for data in dataSet:\n",
    "        if data[feature]==value:\n",
    "            retData=data[:feature]\n",
    "            retData.extend(data[feature+1:])\n",
    "            retDataSet.append(retData)\n",
    "    return retDataSet"
   ]
  },
  {
   "cell_type": "code",
   "execution_count": 141,
   "id": "a41d6001",
   "metadata": {},
   "outputs": [],
   "source": [
    "def chooseBestFeatureToSplit(dataSet):\n",
    "    numFeature=len(dataSet[0])-1\n",
    "    bestEntropy=calcShannonEnt(dataSet)\n",
    "    bestInfoGain=0.0\n",
    "    bestFeature=100\n",
    "    for feature in range(numFeature):\n",
    "        newEntropy=0.0\n",
    "        featureVals=set(data[feature] for data in dataSet)\n",
    "        for featureVal in featureVals:\n",
    "            subDataSet=splitDataSet(dataSet,feature,featureVal)\n",
    "            prob=float(len(subDataSet)/len(dataSet))\n",
    "            newEntropy+=prob*calcShannonEnt(subDataSet)\n",
    "        infoGain=bestEntropy-newEntropy\n",
    "        if infoGain>bestInfoGain:\n",
    "            bestInfoGain=infoGain\n",
    "            bestFeature=feature       \n",
    "    return bestFeature"
   ]
  }
 ],
 "metadata": {
  "kernelspec": {
   "display_name": "Python [conda env:torch]",
   "language": "python",
   "name": "conda-env-torch-py"
  },
  "language_info": {
   "codemirror_mode": {
    "name": "ipython",
    "version": 3
   },
   "file_extension": ".py",
   "mimetype": "text/x-python",
   "name": "python",
   "nbconvert_exporter": "python",
   "pygments_lexer": "ipython3",
   "version": "3.9.15"
  }
 },
 "nbformat": 4,
 "nbformat_minor": 5
}
